{
 "cells": [
  {
   "cell_type": "markdown",
   "id": "401a1886-eee1-4ca8-bbe3-3abbbf5609a7",
   "metadata": {
    "execution": {
     "iopub.execute_input": "2021-05-07T17:04:45.815413Z",
     "iopub.status.busy": "2021-05-07T17:04:45.814925Z",
     "iopub.status.idle": "2021-05-07T17:04:59.434001Z",
     "shell.execute_reply": "2021-05-07T17:04:59.432960Z",
     "shell.execute_reply.started": "2021-05-07T17:04:45.815366Z"
    },
    "tags": []
   },
   "source": [
    "# Data exploration"
   ]
  },
  {
   "cell_type": "code",
   "execution_count": 1,
   "id": "0d60fc6b-a1d3-4fde-9530-dd34a5be6f9d",
   "metadata": {
    "execution": {
     "iopub.execute_input": "2021-05-07T17:25:35.729928Z",
     "iopub.status.busy": "2021-05-07T17:25:35.729393Z",
     "iopub.status.idle": "2021-05-07T17:25:42.614383Z",
     "shell.execute_reply": "2021-05-07T17:25:42.614002Z",
     "shell.execute_reply.started": "2021-05-07T17:25:35.729818Z"
    },
    "tags": []
   },
   "outputs": [],
   "source": [
    "import pandas as pd\n",
    "import numpy as np\n",
    "\n",
    "import matplotlib.pyplot as plt\n",
    "import seaborn as sns\n",
    "\n",
    "sns.set(rc={'axes.facecolor':'GhostWhite', \n",
    "            'figure.facecolor':'White',\n",
    "            'axes.edgecolor':'black', \n",
    "            'xtick.color':'DarkSlateGray', \n",
    "            'ytick.color':'DarkSlateGray',\n",
    "            'grid.linestyle': '--',\n",
    "            'grid.color': 'DarkSlateGray'})"
   ]
  },
  {
   "cell_type": "markdown",
   "id": "dcc3ccf6-9448-4e9d-8458-ba2600c4947d",
   "metadata": {},
   "source": [
    "## Load data"
   ]
  },
  {
   "cell_type": "code",
   "execution_count": 2,
   "id": "d2a775a4-e918-4774-af64-df8c20ee7b28",
   "metadata": {
    "execution": {
     "iopub.execute_input": "2021-05-07T17:25:42.615376Z",
     "iopub.status.busy": "2021-05-07T17:25:42.615272Z",
     "iopub.status.idle": "2021-05-07T17:25:42.641267Z",
     "shell.execute_reply": "2021-05-07T17:25:42.640897Z",
     "shell.execute_reply.started": "2021-05-07T17:25:42.615362Z"
    },
    "tags": []
   },
   "outputs": [],
   "source": [
    "df_train = pd.read_csv(\"./data/test.csv\")\n",
    "df_test = pd.read_csv(\"./data/train.csv\")"
   ]
  },
  {
   "cell_type": "markdown",
   "id": "d50483bb-5c44-4f7b-98cf-e6e9f167fb8c",
   "metadata": {},
   "source": [
    "### Describe"
   ]
  },
  {
   "cell_type": "code",
   "execution_count": 3,
   "id": "fd31ae40-98cd-4846-a932-6d69d737b28a",
   "metadata": {
    "execution": {
     "iopub.execute_input": "2021-05-07T17:25:42.642474Z",
     "iopub.status.busy": "2021-05-07T17:25:42.642359Z",
     "iopub.status.idle": "2021-05-07T17:25:42.665373Z",
     "shell.execute_reply": "2021-05-07T17:25:42.664898Z",
     "shell.execute_reply.started": "2021-05-07T17:25:42.642459Z"
    },
    "tags": []
   },
   "outputs": [
    {
     "data": {
      "text/html": [
       "<div>\n",
       "<style scoped>\n",
       "    .dataframe tbody tr th:only-of-type {\n",
       "        vertical-align: middle;\n",
       "    }\n",
       "\n",
       "    .dataframe tbody tr th {\n",
       "        vertical-align: top;\n",
       "    }\n",
       "\n",
       "    .dataframe thead th {\n",
       "        text-align: right;\n",
       "    }\n",
       "</style>\n",
       "<table border=\"1\" class=\"dataframe\">\n",
       "  <thead>\n",
       "    <tr style=\"text-align: right;\">\n",
       "      <th></th>\n",
       "      <th>count</th>\n",
       "      <th>unique</th>\n",
       "      <th>top</th>\n",
       "      <th>freq</th>\n",
       "      <th>mean</th>\n",
       "      <th>std</th>\n",
       "      <th>min</th>\n",
       "      <th>25%</th>\n",
       "      <th>50%</th>\n",
       "      <th>75%</th>\n",
       "      <th>max</th>\n",
       "    </tr>\n",
       "  </thead>\n",
       "  <tbody>\n",
       "    <tr>\n",
       "      <th>id</th>\n",
       "      <td>3263.0</td>\n",
       "      <td>NaN</td>\n",
       "      <td>NaN</td>\n",
       "      <td>NaN</td>\n",
       "      <td>5427.152927</td>\n",
       "      <td>3146.427221</td>\n",
       "      <td>0.0</td>\n",
       "      <td>2683.0</td>\n",
       "      <td>5500.0</td>\n",
       "      <td>8176.0</td>\n",
       "      <td>10875.0</td>\n",
       "    </tr>\n",
       "    <tr>\n",
       "      <th>keyword</th>\n",
       "      <td>3237</td>\n",
       "      <td>221</td>\n",
       "      <td>deluged</td>\n",
       "      <td>23</td>\n",
       "      <td>NaN</td>\n",
       "      <td>NaN</td>\n",
       "      <td>NaN</td>\n",
       "      <td>NaN</td>\n",
       "      <td>NaN</td>\n",
       "      <td>NaN</td>\n",
       "      <td>NaN</td>\n",
       "    </tr>\n",
       "    <tr>\n",
       "      <th>location</th>\n",
       "      <td>2158</td>\n",
       "      <td>1602</td>\n",
       "      <td>New York</td>\n",
       "      <td>38</td>\n",
       "      <td>NaN</td>\n",
       "      <td>NaN</td>\n",
       "      <td>NaN</td>\n",
       "      <td>NaN</td>\n",
       "      <td>NaN</td>\n",
       "      <td>NaN</td>\n",
       "      <td>NaN</td>\n",
       "    </tr>\n",
       "    <tr>\n",
       "      <th>text</th>\n",
       "      <td>3263</td>\n",
       "      <td>3243</td>\n",
       "      <td>11-Year-Old Boy Charged With Manslaughter of T...</td>\n",
       "      <td>3</td>\n",
       "      <td>NaN</td>\n",
       "      <td>NaN</td>\n",
       "      <td>NaN</td>\n",
       "      <td>NaN</td>\n",
       "      <td>NaN</td>\n",
       "      <td>NaN</td>\n",
       "      <td>NaN</td>\n",
       "    </tr>\n",
       "  </tbody>\n",
       "</table>\n",
       "</div>"
      ],
      "text/plain": [
       "           count unique                                                top  \\\n",
       "id        3263.0    NaN                                                NaN   \n",
       "keyword     3237    221                                            deluged   \n",
       "location    2158   1602                                           New York   \n",
       "text        3263   3243  11-Year-Old Boy Charged With Manslaughter of T...   \n",
       "\n",
       "         freq         mean          std  min     25%     50%     75%      max  \n",
       "id        NaN  5427.152927  3146.427221  0.0  2683.0  5500.0  8176.0  10875.0  \n",
       "keyword    23          NaN          NaN  NaN     NaN     NaN     NaN      NaN  \n",
       "location   38          NaN          NaN  NaN     NaN     NaN     NaN      NaN  \n",
       "text        3          NaN          NaN  NaN     NaN     NaN     NaN      NaN  "
      ]
     },
     "execution_count": 3,
     "metadata": {},
     "output_type": "execute_result"
    }
   ],
   "source": [
    "df_train.describe(include=\"all\").T"
   ]
  },
  {
   "cell_type": "markdown",
   "id": "3e010ed7-a06d-46bc-8919-abf4f930f154",
   "metadata": {},
   "source": [
    "### Missing values\n",
    "\n",
    "Ploting the number of samples with missing values for each feature."
   ]
  },
  {
   "cell_type": "code",
   "execution_count": 4,
   "id": "320fafa3-f6ed-458b-b034-9ff76436d7aa",
   "metadata": {
    "execution": {
     "iopub.execute_input": "2021-05-07T17:25:42.666267Z",
     "iopub.status.busy": "2021-05-07T17:25:42.666162Z",
     "iopub.status.idle": "2021-05-07T17:25:42.771514Z",
     "shell.execute_reply": "2021-05-07T17:25:42.771153Z",
     "shell.execute_reply.started": "2021-05-07T17:25:42.666253Z"
    },
    "tags": []
   },
   "outputs": [
    {
     "data": {
      "text/plain": [
       "<AxesSubplot:xlabel='field', ylabel='missing'>"
      ]
     },
     "execution_count": 4,
     "metadata": {},
     "output_type": "execute_result"
    },
    {
     "data": {
      "image/png": "[encoded data removed]",
      "text/plain": [
       "<Figure size 432x288 with 1 Axes>"
      ]
     },
     "metadata": {},
     "output_type": "display_data"
    }
   ],
   "source": [
    "df_missing_train = pd.DataFrame(len(df_train) - df_train.count())\n",
    "df_missing_train.reset_index(inplace=True)\n",
    "df_missing_train.columns = [\"field\", \"missing\"]\n",
    "\n",
    "sns.barplot(x=\"field\", y=\"missing\", data=df_missing_train)"
   ]
  },
  {
   "cell_type": "markdown",
   "id": "5e7f07ae-5213-4af5-9c7e-3c0180636e54",
   "metadata": {},
   "source": [
    "For both datasets location is the field with more missing values. Data imputation is hard for both columns, a posible solution to deal with these missing values could be replace null values with \"unknown\"."
   ]
  },
  {
   "cell_type": "code",
   "execution_count": 5,
   "id": "8c16c51b-b833-4a47-b755-c016790fc3c4",
   "metadata": {
    "execution": {
     "iopub.execute_input": "2021-05-07T17:25:42.887679Z",
     "iopub.status.busy": "2021-05-07T17:25:42.887495Z",
     "iopub.status.idle": "2021-05-07T17:25:42.891348Z",
     "shell.execute_reply": "2021-05-07T17:25:42.890789Z",
     "shell.execute_reply.started": "2021-05-07T17:25:42.887662Z"
    },
    "tags": []
   },
   "outputs": [],
   "source": [
    "df_train[\"keyword\"] = df_train[\"keyword\"].fillna(\"unknown\")"
   ]
  },
  {
   "cell_type": "markdown",
   "id": "fbfa5c9d-d69b-4508-9095-e3336372ba4d",
   "metadata": {},
   "source": [
    "## Explore categorical variables"
   ]
  },
  {
   "cell_type": "code",
   "execution_count": 28,
   "id": "4699becd-04a4-4d8b-8756-ee68ed28d112",
   "metadata": {
    "execution": {
     "iopub.execute_input": "2021-05-07T18:46:34.347317Z",
     "iopub.status.busy": "2021-05-07T18:46:34.345574Z",
     "iopub.status.idle": "2021-05-07T18:46:34.398473Z",
     "shell.execute_reply": "2021-05-07T18:46:34.396821Z",
     "shell.execute_reply.started": "2021-05-07T18:46:34.347277Z"
    },
    "tags": []
   },
   "outputs": [
    {
     "data": {
      "text/html": [
       "<div>\n",
       "<style scoped>\n",
       "    .dataframe tbody tr th:only-of-type {\n",
       "        vertical-align: middle;\n",
       "    }\n",
       "\n",
       "    .dataframe tbody tr th {\n",
       "        vertical-align: top;\n",
       "    }\n",
       "\n",
       "    .dataframe thead th {\n",
       "        text-align: right;\n",
       "    }\n",
       "</style>\n",
       "<table border=\"1\" class=\"dataframe\">\n",
       "  <thead>\n",
       "    <tr style=\"text-align: right;\">\n",
       "      <th></th>\n",
       "      <th>location</th>\n",
       "      <th>count</th>\n",
       "    </tr>\n",
       "  </thead>\n",
       "  <tbody>\n",
       "    <tr>\n",
       "      <th>858</th>\n",
       "      <td>New York</td>\n",
       "      <td>38</td>\n",
       "    </tr>\n",
       "    <tr>\n",
       "      <th>1278</th>\n",
       "      <td>USA</td>\n",
       "      <td>37</td>\n",
       "    </tr>\n",
       "    <tr>\n",
       "      <th>1389</th>\n",
       "      <td>Worldwide</td>\n",
       "      <td>16</td>\n",
       "    </tr>\n",
       "    <tr>\n",
       "      <th>1293</th>\n",
       "      <td>United States</td>\n",
       "      <td>15</td>\n",
       "    </tr>\n",
       "    <tr>\n",
       "      <th>267</th>\n",
       "      <td>Canada</td>\n",
       "      <td>13</td>\n",
       "    </tr>\n",
       "  </tbody>\n",
       "</table>\n",
       "</div>"
      ],
      "text/plain": [
       "           location  count\n",
       "858        New York     38\n",
       "1278            USA     37\n",
       "1389      Worldwide     16\n",
       "1293  United States     15\n",
       "267          Canada     13"
      ]
     },
     "execution_count": 28,
     "metadata": {},
     "output_type": "execute_result"
    }
   ],
   "source": [
    "df_train_location = pd.DataFrame(df_train.groupby(\"location\").size()).reset_index()\n",
    "df_train_location.columns = [\"location\", \"count\"]\n",
    "df_train_location = df_train_location.sort_values(\"count\", ascending=False)\n",
    "df_train_location.head()"
   ]
  },
  {
   "cell_type": "code",
   "execution_count": 29,
   "id": "65ef98fe-745f-42fd-8e34-8505982b96f7",
   "metadata": {
    "execution": {
     "iopub.execute_input": "2021-05-07T18:47:09.540925Z",
     "iopub.status.busy": "2021-05-07T18:47:09.540501Z",
     "iopub.status.idle": "2021-05-07T18:47:09.566933Z",
     "shell.execute_reply": "2021-05-07T18:47:09.566077Z",
     "shell.execute_reply.started": "2021-05-07T18:47:09.540887Z"
    }
   },
   "outputs": [
    {
     "data": {
      "text/html": [
       "<div>\n",
       "<style scoped>\n",
       "    .dataframe tbody tr th:only-of-type {\n",
       "        vertical-align: middle;\n",
       "    }\n",
       "\n",
       "    .dataframe tbody tr th {\n",
       "        vertical-align: top;\n",
       "    }\n",
       "\n",
       "    .dataframe thead th {\n",
       "        text-align: right;\n",
       "    }\n",
       "</style>\n",
       "<table border=\"1\" class=\"dataframe\">\n",
       "  <thead>\n",
       "    <tr style=\"text-align: right;\">\n",
       "      <th></th>\n",
       "      <th>keyword</th>\n",
       "      <th>count</th>\n",
       "    </tr>\n",
       "  </thead>\n",
       "  <tbody>\n",
       "    <tr>\n",
       "      <th>206</th>\n",
       "      <td>unknown</td>\n",
       "      <td>26</td>\n",
       "    </tr>\n",
       "    <tr>\n",
       "      <th>64</th>\n",
       "      <td>deluged</td>\n",
       "      <td>23</td>\n",
       "    </tr>\n",
       "    <tr>\n",
       "      <th>66</th>\n",
       "      <td>demolished</td>\n",
       "      <td>22</td>\n",
       "    </tr>\n",
       "    <tr>\n",
       "      <th>169</th>\n",
       "      <td>rubble</td>\n",
       "      <td>22</td>\n",
       "    </tr>\n",
       "    <tr>\n",
       "      <th>181</th>\n",
       "      <td>snowstorm</td>\n",
       "      <td>21</td>\n",
       "    </tr>\n",
       "  </tbody>\n",
       "</table>\n",
       "</div>"
      ],
      "text/plain": [
       "        keyword  count\n",
       "206     unknown     26\n",
       "64      deluged     23\n",
       "66   demolished     22\n",
       "169      rubble     22\n",
       "181   snowstorm     21"
      ]
     },
     "execution_count": 29,
     "metadata": {},
     "output_type": "execute_result"
    }
   ],
   "source": [
    "df_train_keyword = pd.DataFrame(df_train.groupby(\"keyword\").size()).reset_index()\n",
    "df_train_keyword.columns = [\"keyword\", \"count\"]\n",
    "df_train_keyword = df_train_keyword.sort_values(\"count\", ascending=False)\n",
    "df_train_keyword.head()"
   ]
  },
  {
   "cell_type": "code",
   "execution_count": null,
   "id": "842ea457-9cb0-405f-8559-497fca3788b6",
   "metadata": {},
   "outputs": [],
   "source": []
  }
 ],
 "metadata": {
  "kernelspec": {
   "display_name": "Python 3",
   "language": "python",
   "name": "python3"
  },
  "language_info": {
   "codemirror_mode": {
    "name": "ipython",
    "version": 3
   },
   "file_extension": ".py",
   "mimetype": "text/x-python",
   "name": "python",
   "nbconvert_exporter": "python",
   "pygments_lexer": "ipython3",
   "version": "3.8.2"
  }
 },
 "nbformat": 4,
 "nbformat_minor": 5
}
